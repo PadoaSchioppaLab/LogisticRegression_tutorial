{
  "cells": [
    {
      "cell_type": "markdown",
      "metadata": {
        "id": "view-in-github",
        "colab_type": "text"
      },
      "source": [
        "<a href=\"https://colab.research.google.com/github/wilburshi/LogisticRegression_tutorial/blob/main/LogisticRegression_TrinaryChoice.ipynb\" target=\"_parent\"><img src=\"https://colab.research.google.com/assets/colab-badge.svg\" alt=\"Open In Colab\"/></a>"
      ]
    },
    {
      "cell_type": "markdown",
      "id": "3f8949c7",
      "metadata": {
        "id": "3f8949c7"
      },
      "source": [
        "# Logistic Regression for Three-Option Juice Choice Task"
      ]
    },
    {
      "cell_type": "markdown",
      "id": "5ab4b1e0",
      "metadata": {
        "id": "5ab4b1e0"
      },
      "source": [
        "Logistic regression can also be used to fit choice pattern with more than two options. This tutorial will analyze a trinary choice task."
      ]
    },
    {
      "cell_type": "markdown",
      "id": "7eb09268",
      "metadata": {
        "id": "7eb09268"
      },
      "source": [
        "![TC_tasks.JPG](attachment:TC_tasks.JPG)"
      ]
    },
    {
      "cell_type": "code",
      "execution_count": null,
      "id": "3d317890",
      "metadata": {
        "id": "3d317890"
      },
      "outputs": [],
      "source": [
        "import numpy as np\n",
        "import matplotlib.pyplot as plt\n",
        "from scipy.io import loadmat\n",
        "import scipy.optimize as optim"
      ]
    },
    {
      "cell_type": "markdown",
      "id": "0302db50",
      "metadata": {
        "id": "0302db50"
      },
      "source": [
        "## Simple regression"
      ]
    },
    {
      "cell_type": "markdown",
      "id": "036000ed",
      "metadata": {
        "id": "036000ed"
      },
      "source": [
        "### Step 1: load data"
      ]
    },
    {
      "cell_type": "markdown",
      "id": "e8861d7b",
      "metadata": {
        "id": "e8861d7b"
      },
      "source": [
        "First, let's load example data file named as `goodTrials_TC.mat`. It only contains trials that monkey has successfully chosen one of the juice option.  \n",
        "\n",
        "`goodTrials_TC.mat` is a $N \\times 9$, where $N$ is the number of the trials in this session, and in this example, $N = 600$. The columns of this matrix indicated:\n",
        "\n",
        " - *column 1*: the trial number.\n",
        "\n",
        " - *column 2*: the quantity of juice A.\n",
        " \n",
        " - *column 3*: the quantity of juice B. \n",
        " \n",
        " - *column 4*: the quantity of juice C.\n",
        " \n",
        " - *column 5*: the probability of juice A.\n",
        "\n",
        " - *column 6*: the probability of juice B. \n",
        " \n",
        " - *column 7*: the probability of juice C.\n",
        " \n",
        " - *column 8*: the chosen juice type, with 1 indicating A, 2 indicating B and 3 indicating C.\n",
        "\n",
        " - *column 9*: juice delivered, 0=no, 1=yes."
      ]
    },
    {
      "cell_type": "code",
      "execution_count": null,
      "id": "808ffa3a",
      "metadata": {
        "id": "808ffa3a"
      },
      "outputs": [],
      "source": [
        "!git clone https://github.com/wilburshi/LogisticRegression_tutorial.git # use it only for google colab \n",
        "data = loadmat('LogisticRegression_tutorial/data/goodtrials_TC.mat')['goodTrials_TC'] # use it only for goole colab\n",
        "# data = loadmat('../data/goodtrials_TC.mat')['goodTrials_TC'] # loadmat is a function in scipy.io used to load Matlab data file\n",
        "\n",
        "# Independent variables\n",
        "triNum = np.abs(data[:,0]) # trial number\n",
        "QA = np.abs(data[:,1]) # quantity of juice A\n",
        "QB = np.abs(data[:,2]) # quantity of juice B\n",
        "QC = np.abs(data[:,3]) # quantity of juice C\n",
        "PA = np.abs(data[:,4]) # probability of juice A\n",
        "PB = np.abs(data[:,5]) # probability of juice B\n",
        "PC = np.abs(data[:,6]) # probability of juice C\n",
        "\n",
        "# Dependent variables\n",
        "CJ = data[:,7] # the type of chosen juice. 1: chosen A, 2: chosen B, 3: chosen C\n",
        "\n",
        "ind_forced = (data[:,1] == 0) | (data[:,2] == 0) | (data[:,3] == 0) # index of forced choice\n",
        "ind_nonforced = ~ind_forced"
      ]
    },
    {
      "cell_type": "markdown",
      "id": "6f827b60",
      "metadata": {
        "id": "6f827b60"
      },
      "source": [
        "### Step 2: logistic regression fitting\n",
        "We use regression that is similar to logistic regression to fit the trinary choice pattern. The model is as follows:\n",
        "\n",
        "$ P_A = 1/(1+exp(-(a_0-a_1+a_2log(p_A/p_B)+a_3log(q_A/q_B)))+exp(-(a_0+a_2log(p_A/p_C)+a_3log(q_A/q_C)))) $\n",
        "\n",
        "$ P_B = 1/(1+exp(-(-a_0+a_1+a_2log(p_B/p_A)+a_3log(q_B/q_A)))+exp(-(a_1+a_2log(p_B/p_C)+a_3log(q_B/q_C)))) $\n",
        "\n",
        "$ P_C = 1/(1+exp(-(-a_0+a_2log(p_C/p_A)+a_3log(q_C/q_A)))+exp(-(-a_1+a_2log(p_C/p_B)+a_3log(q_C/q_B)))) $\n",
        "\n",
        "The maximum likelihood estimation is computed using the objective function\n",
        "$ F =\\prod_{i = 1,...,N}P^i_{chosen juice}$\n",
        "where N is the number of trials and the probabilities $P^i_{chosen juice}$ are computed using equations above.\n"
      ]
    },
    {
      "cell_type": "code",
      "execution_count": null,
      "id": "45053462",
      "metadata": {
        "id": "45053462"
      },
      "outputs": [],
      "source": [
        "# define customized regression function for trinary choice\n",
        "def objectiveFun_logit3(betas):\n",
        "\n",
        "    Y = CJ[ind_nonforced]\n",
        "    iiA = Y == 1\n",
        "    iiB = Y == 2\n",
        "    iiC = Y == 3\n",
        "    Q1 = np.log(QB[ind_nonforced]/QA[ind_nonforced])\n",
        "    Q2 = np.log(QC[ind_nonforced]/QB[ind_nonforced])\n",
        "    Q3 = np.log(QA[ind_nonforced]/QC[ind_nonforced])\n",
        "    P1 = np.log(PB[ind_nonforced]/PA[ind_nonforced])\n",
        "    P2 = np.log(PC[ind_nonforced]/PB[ind_nonforced])\n",
        "    P3 = np.log(PA[ind_nonforced]/PC[ind_nonforced])\n",
        "    \n",
        "    FF = 0\n",
        "    for ii in np.arange(0,np.shape(np.where(iiA))[1],1):  \n",
        "        jj = np.where(iiA)[0][ii]\n",
        "        FF = FF+np.log(1+np.exp(-betas[0]+betas[1]+betas[2]*P1[jj]+betas[3]*Q1[jj])+np.exp(-betas[0]-betas[2]*P3[jj]-betas[3]*Q3[jj]))\n",
        "    for ii in np.arange(0,np.shape(np.where(iiB))[1],1):        \n",
        "        jj = np.where(iiB)[0][ii]\n",
        "        FF = FF+np.log(1+np.exp(betas[0]-betas[1]-betas[2]*P1[jj]-betas[3]*Q1[jj])+np.exp(-betas[1]+betas[2]*P2[jj]+betas[3]*Q2[jj]))\n",
        "    for ii in np.arange(0,np.shape(np.where(iiC))[1],1):\n",
        "        jj = np.where(iiC)[0][ii]\n",
        "        FF = FF+np.log(1+np.exp(betas[0]+betas[2]*P3[jj]+betas[3]*Q3[jj])+np.exp(betas[1]-betas[2]*P2[jj]-betas[3]*Q2[jj]))\n",
        "    return FF"
      ]
    },
    {
      "cell_type": "code",
      "execution_count": null,
      "id": "ad731336",
      "metadata": {
        "id": "ad731336",
        "outputId": "9ed0268e-c52a-4c17-c215-64f207c97ff2"
      },
      "outputs": [
        {
          "name": "stdout",
          "output_type": "stream",
          "text": [
            "Optimization terminated successfully.\n",
            "         Current function value: 162.249173\n",
            "         Iterations: 307\n",
            "         Function evaluations: 520\n"
          ]
        }
      ],
      "source": [
        "# find betas that is the maximum likelihood estimation\n",
        "betas_init = [0,0,1,1]\n",
        "betas = optim.fmin(func=objectiveFun_logit3, x0=betas_init)"
      ]
    },
    {
      "cell_type": "code",
      "execution_count": null,
      "id": "6a5da7bd",
      "metadata": {
        "id": "6a5da7bd",
        "outputId": "95205db1-0953-4e6d-d3c2-a48cb6363751"
      },
      "outputs": [
        {
          "name": "stdout",
          "output_type": "stream",
          "text": [
            "juice A relative value ρA is:  3.62792938\n",
            "juice A relative value ρB is:  2.6665506\n",
            "juice A relative value ρC is:  1\n",
            "steepness η is:  5.23870643\n",
            "risk attitude γ is:  0.90832571\n"
          ]
        }
      ],
      "source": [
        "rhoA = np.exp(betas[0]/betas[3])\n",
        "rhoB = np.exp(betas[1]/betas[3])\n",
        "rhoC = np.array(1)\n",
        "gamma = betas[2]/betas[3]\n",
        "print('juice A relative value ρA is: ', np.array2string(rhoA))\n",
        "print('juice A relative value ρB is: ', np.array2string(rhoB))\n",
        "print('juice A relative value ρC is: ', np.array2string(rhoC))\n",
        "print('steepness η is: ', np.array2string(eta))\n",
        "print('risk attitude γ is: ', np.array2string(gamma))\n"
      ]
    },
    {
      "cell_type": "markdown",
      "id": "51905644",
      "metadata": {
        "id": "51905644"
      },
      "source": [
        "### Step 3: plotting\n",
        "We plot the choice patterns using a simplex plot"
      ]
    },
    {
      "cell_type": "code",
      "execution_count": null,
      "id": "d445e981",
      "metadata": {
        "id": "d445e981",
        "outputId": "0a682931-ed5f-4760-9e07-e33495f1d8b9"
      },
      "outputs": [
        {
          "data": {
            "image/png": "[encoded data removed]",
            "text/plain": [
              "<Figure size 864x648 with 2 Axes>"
            ]
          },
          "metadata": {
            "needs_background": "light"
          },
          "output_type": "display_data"
        }
      ],
      "source": [
        "EVA = QA*rhoA*(PA**gamma)\n",
        "EVB = QB*rhoB*(PB**gamma)\n",
        "EVC = QC*rhoC*(PC**gamma)\n",
        "xx1 = EVA/np.max(EVA)\n",
        "xx2 = EVB/np.max(EVB)\n",
        "xx3 = EVC/np.max(EVC)\n",
        "xy1 = ((2*xx2+xx3)/2)/(xx1+xx2+xx3)\n",
        "xy2 = (np.sqrt(3)/2*xx3)/(xx1+xx2+xx3)\n",
        "\n",
        "# plot data point using a simplex plot\n",
        "fig= plt.figure(figsize=(12,9))\n",
        "ii = CJ == 1\n",
        "plt.plot(xy1[ii], xy2[ii], 'r.')\n",
        "ii = CJ == 2\n",
        "plt.plot(xy1[ii], xy2[ii], 'b.')\n",
        "ii = CJ == 3\n",
        "plt.plot(xy1[ii], xy2[ii], 'g.')\n",
        "ax = plt.gca()\n",
        "ax.set_aspect('equal')\n",
        "ax.axis('off')\n",
        "ax2 = fig.add_axes([-0.1,-0.1,1.2,np.sqrt(3)/2+0.1])\n",
        "ax2.set_aspect('equal')\n",
        "ax2.axis('off')\n",
        "plt.text(-.1,.7,'colors: chosen juice')\n",
        "plt.text( 0,0.2,'A='+np.array2string(np.max(QA)))\n",
        "plt.text( 1,0.2,'B='+np.array2string(np.max(QB)))\n",
        "plt.text(.5,np.sqrt(3)/2+.05,'C='+np.array2string(np.max(QC)));"
      ]
    }
  ],
  "metadata": {
    "kernelspec": {
      "display_name": "Python 3 (ipykernel)",
      "language": "python",
      "name": "python3"
    },
    "language_info": {
      "codemirror_mode": {
        "name": "ipython",
        "version": 3
      },
      "file_extension": ".py",
      "mimetype": "text/x-python",
      "name": "python",
      "nbconvert_exporter": "python",
      "pygments_lexer": "ipython3",
      "version": "3.9.12"
    },
    "colab": {
      "name": "LogisticRegression_TrinaryChoice.ipynb",
      "provenance": [],
      "include_colab_link": true
    }
  },
  "nbformat": 4,
  "nbformat_minor": 5
}